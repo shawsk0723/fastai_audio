{
 "cells": [
  {
   "cell_type": "code",
   "execution_count": 16,
   "metadata": {},
   "outputs": [],
   "source": [
    "%reload_ext autoreload\n",
    "%autoreload 2\n",
    "%matplotlib inline"
   ]
  },
  {
   "cell_type": "code",
   "execution_count": 17,
   "metadata": {},
   "outputs": [],
   "source": [
    "import os\n",
    "from pathlib import Path\n",
    "from IPython.display import Audio, display\n",
    "import matplotlib.pyplot as plt\n",
    "import librosa.display\n",
    "import torch\n",
    "import torchaudio\n",
    "import numpy as np"
   ]
  },
  {
   "cell_type": "code",
   "execution_count": 18,
   "metadata": {},
   "outputs": [],
   "source": [
    "data_path = Path('../data/ESC-50/audio')\n",
    "vacuum_cleaner_file_name = '1-100210-A-36.wav'\n",
    "pouring_water_file_name = '1-118559-A-17.wav'\n",
    "\n",
    "vacuum_cleaner_file_path = Path(data_path/vacuum_cleaner_file_name)\n",
    "pouring_water_file_path =  Path(data_path/pouring_water_file_name)"
   ]
  },
  {
   "cell_type": "code",
   "execution_count": 19,
   "metadata": {},
   "outputs": [],
   "source": [
    "import scipy.io as sio\n",
    "import scipy.io.wavfile\n",
    "samplerate, signal = sio.wavfile.read(vacuum_cleaner_file_path)"
   ]
  },
  {
   "cell_type": "code",
   "execution_count": 20,
   "metadata": {},
   "outputs": [
    {
     "name": "stdout",
     "output_type": "stream",
     "text": [
      "44100\n",
      "[ -228  -410  -369 ...  7054  -287 -9471]\n"
     ]
    }
   ],
   "source": [
    "print(samplerate)\n",
    "print(signal)"
   ]
  },
  {
   "cell_type": "code",
   "execution_count": 21,
   "metadata": {},
   "outputs": [],
   "source": [
    "import requests, json\n",
    "URL = 'http://172.17.0.7:8893/invocations'\n",
    "audio_json = {}\n",
    "audio_json['sample_rate'] = samplerate\n",
    "audio_json['signal'] = signal.tolist()\n",
    "input_data_json = {}\n",
    "input_data_json['input'] = audio_json\n",
    "#input_data_json"
   ]
  },
  {
   "cell_type": "code",
   "execution_count": 22,
   "metadata": {
    "scrolled": true
   },
   "outputs": [],
   "source": [
    "import threading, time\n",
    "class InferenceThread(threading.Thread):\n",
    "    def __init__(self, stop, url, input_json):\n",
    "        threading.Thread.__init__(self)\n",
    "        self.stop = stop\n",
    "        self.url = url\n",
    "        self.input_json = input_json\n",
    "        \n",
    "    def run(self):\n",
    "        while True:\n",
    "            res = requests.post(self.url, json=self.input_json)\n",
    "            print('status code = ', res.status_code)\n",
    "            print('predict result = ', res.json())\n",
    "            time.sleep(0.5)\n",
    "            if self.stop():\n",
    "                print('exit while loop ~')\n",
    "                break;\n",
    "        print('thread stop ~')"
   ]
  },
  {
   "cell_type": "code",
   "execution_count": 23,
   "metadata": {},
   "outputs": [
    {
     "name": "stdout",
     "output_type": "stream",
     "text": [
      "status code =  200\n",
      "predict result =  {'output': {'index': 46, 'label': 'vacuum_cleaner', 'probability': 0.9692327976226807}}\n",
      "status code =  200\n",
      "predict result =  {'output': {'index': 46, 'label': 'vacuum_cleaner', 'probability': 0.9692327976226807}}\n",
      "status code =  200\n",
      "predict result =  {'output': {'index': 46, 'label': 'vacuum_cleaner', 'probability': 0.9692327976226807}}\n",
      "status code =  200\n",
      "predict result =  {'output': {'index': 46, 'label': 'vacuum_cleaner', 'probability': 0.9692327976226807}}\n",
      "status code =  200\n",
      "predict result =  {'output': {'index': 46, 'label': 'vacuum_cleaner', 'probability': 0.9692327976226807}}\n",
      "status code =  200\n",
      "predict result =  {'output': {'index': 46, 'label': 'vacuum_cleaner', 'probability': 0.9692327976226807}}\n",
      "status code =  200\n",
      "predict result =  {'output': {'index': 46, 'label': 'vacuum_cleaner', 'probability': 0.9692327976226807}}\n",
      "status code =  200\n",
      "predict result =  {'output': {'index': 46, 'label': 'vacuum_cleaner', 'probability': 0.9692327976226807}}\n",
      "status code =  200\n",
      "predict result =  {'output': {'index': 46, 'label': 'vacuum_cleaner', 'probability': 0.9692327976226807}}\n",
      "status code =  200\n",
      "predict result =  {'output': {'index': 46, 'label': 'vacuum_cleaner', 'probability': 0.9692327976226807}}\n",
      "status code =  200\n",
      "predict result =  {'output': {'index': 46, 'label': 'vacuum_cleaner', 'probability': 0.9692327976226807}}\n",
      "status code =  200\n",
      "predict result =  {'output': {'index': 46, 'label': 'vacuum_cleaner', 'probability': 0.9692327976226807}}\n",
      "status code =  200\n",
      "predict result =  {'output': {'index': 46, 'label': 'vacuum_cleaner', 'probability': 0.9692327976226807}}\n",
      "status code =  200\n",
      "predict result =  {'output': {'index': 46, 'label': 'vacuum_cleaner', 'probability': 0.9692327976226807}}\n",
      "status code =  200\n",
      "predict result =  {'output': {'index': 46, 'label': 'vacuum_cleaner', 'probability': 0.9692327976226807}}\n",
      "status code =  200\n",
      "predict result =  {'output': {'index': 46, 'label': 'vacuum_cleaner', 'probability': 0.9692327976226807}}\n",
      "status code =  200\n",
      "predict result =  {'output': {'index': 46, 'label': 'vacuum_cleaner', 'probability': 0.9692327976226807}}\n",
      "status code =  200\n",
      "predict result =  {'output': {'index': 46, 'label': 'vacuum_cleaner', 'probability': 0.9692327976226807}}\n",
      "status code =  200\n",
      "predict result =  {'output': {'index': 46, 'label': 'vacuum_cleaner', 'probability': 0.9692327976226807}}\n",
      "status code =  200\n",
      "predict result =  {'output': {'index': 46, 'label': 'vacuum_cleaner', 'probability': 0.9692327976226807}}\n"
     ]
    }
   ],
   "source": [
    "thread_stop = False\n",
    "inferenceThread = InferenceThread(lambda: thread_stop, URL, input_data_json)\n",
    "inferenceThread.start()"
   ]
  },
  {
   "cell_type": "code",
   "execution_count": 25,
   "metadata": {},
   "outputs": [],
   "source": [
    "thread_stop = True"
   ]
  },
  {
   "cell_type": "code",
   "execution_count": null,
   "metadata": {},
   "outputs": [],
   "source": []
  }
 ],
 "metadata": {
  "kernelspec": {
   "display_name": "Python 3",
   "language": "python",
   "name": "python3"
  },
  "language_info": {
   "codemirror_mode": {
    "name": "ipython",
    "version": 3
   },
   "file_extension": ".py",
   "mimetype": "text/x-python",
   "name": "python",
   "nbconvert_exporter": "python",
   "pygments_lexer": "ipython3",
   "version": "3.7.3"
  }
 },
 "nbformat": 4,
 "nbformat_minor": 2
}
